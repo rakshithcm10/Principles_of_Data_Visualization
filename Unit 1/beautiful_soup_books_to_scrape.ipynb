{
  "cells": [
    {
      "cell_type": "code",
      "execution_count": null,
      "metadata": {
        "id": "os7SWtGdr46d"
      },
      "outputs": [],
      "source": []
    },
    {
      "cell_type": "code",
      "execution_count": null,
      "metadata": {
        "id": "QABxIwd6r46j"
      },
      "outputs": [],
      "source": [
        "import re\n",
        "import pandas as pd\n",
        "import requests\n",
        "from bs4 import BeautifulSoup\n",
        "\n",
        "\n",
        "# function to get url for scraping like any websites with books online sales\n",
        "def scrapeUrl(pageURL):\n",
        "    response = requests.get(pageURL)\n",
        "    data = BeautifulSoup(response.text,'html.parser')\n",
        "\n",
        "    books = data.find_all(class_='product_pod')\n",
        "\n",
        "    base_url = 'http://books.toscrape.com/catalogue/'\n",
        "\n",
        "    books_urls = []\n",
        "\n",
        "    for i in books:\n",
        "        books_urls.append(base_url + i.h3.a['href'])\n",
        "\n",
        "    return books_urls\n"
      ]
    },
    {
      "cell_type": "code",
      "execution_count": null,
      "metadata": {
        "id": "xPPcxEEvr46s"
      },
      "outputs": [],
      "source": [
        "# after scraping we store in csv/excel file\n",
        "def storeDetailsOfBook(url,AllBookDetails):\n",
        "\n",
        "    bookURLs = scrapeUrl(url)\n",
        "\n",
        "    for bookLink in bookURLs:\n",
        "        response = requests.get(bookLink)\n",
        "        data = BeautifulSoup(response.text,'html.parser')\n",
        "\n",
        "        title = data.find('h1').string\n",
        "\n",
        "        price_string = data.find(class_='price_color').string #Class describe\n",
        "\n",
        "        price = float(re.search('[\\d.]+',price_string).group())\n",
        "\n",
        "\n",
        "        q = data.find(class_='instock availability')    #Class describe\n",
        "\n",
        "        qty_string = q.contents[-1].strip()\n",
        "\n",
        "        qty = int(re.search('\\d+',qty_string).group())\n",
        "\n",
        "        detail = [title,bookLink,price,qty]\n",
        "\n",
        "        AllBookDetails.append(detail)"
      ]
    },
    {
      "cell_type": "code",
      "execution_count": null,
      "metadata": {
        "id": "PUvmvUDVr46u"
      },
      "outputs": [],
      "source": [
        "\n",
        "allPages = ['http://books.toscrape.com/catalogue/page-1.html',\n",
        "            'http://books.toscrape.com/catalogue/page-2.html']\n",
        "\n",
        "AllBookDetails = []\n",
        "\n",
        "for page in allPages:\n",
        "    storeDetailsOfBook(page, AllBookDetails)\n",
        "\n",
        "AllBookDetails_df = pd.DataFrame(AllBookDetails, columns = ['Title','Link','Price','Quantity in Stock'])\n",
        "\n",
        "AllBookDetails_df.to_csv('booksnew.csv')\n",
        "# this will save into a csv format (basically a excel) & is saved in our local C drive\n",
        "#jupyter note book path : C:\\Users\\swaroop m s\\booksnew.csv\\\n"
      ]
    },
    {
      "cell_type": "code",
      "execution_count": null,
      "metadata": {
        "colab": {
          "base_uri": "https://localhost:8080/"
        },
        "id": "9d0QXIA0r46x",
        "outputId": "e9d94973-2133-4658-f8e9-c9adffeeee13"
      },
      "outputs": [
        {
          "output_type": "stream",
          "name": "stdout",
          "text": [
            "A Light in the Attic http://books.toscrape.com/catalogue/a-light-in-the-attic_1000/index.html 51.77 22\n",
            "Tipping the Velvet http://books.toscrape.com/catalogue/tipping-the-velvet_999/index.html 53.74 20\n",
            "Soumission http://books.toscrape.com/catalogue/soumission_998/index.html 50.1 20\n",
            "Sharp Objects http://books.toscrape.com/catalogue/sharp-objects_997/index.html 47.82 20\n",
            "Sapiens: A Brief History of Humankind http://books.toscrape.com/catalogue/sapiens-a-brief-history-of-humankind_996/index.html 54.23 20\n",
            "The Requiem Red http://books.toscrape.com/catalogue/the-requiem-red_995/index.html 22.65 19\n",
            "The Dirty Little Secrets of Getting Your Dream Job http://books.toscrape.com/catalogue/the-dirty-little-secrets-of-getting-your-dream-job_994/index.html 33.34 19\n",
            "The Coming Woman: A Novel Based on the Life of the Infamous Feminist, Victoria Woodhull http://books.toscrape.com/catalogue/the-coming-woman-a-novel-based-on-the-life-of-the-infamous-feminist-victoria-woodhull_993/index.html 17.93 19\n",
            "The Boys in the Boat: Nine Americans and Their Epic Quest for Gold at the 1936 Berlin Olympics http://books.toscrape.com/catalogue/the-boys-in-the-boat-nine-americans-and-their-epic-quest-for-gold-at-the-1936-berlin-olympics_992/index.html 22.6 19\n",
            "The Black Maria http://books.toscrape.com/catalogue/the-black-maria_991/index.html 52.15 19\n",
            "Starving Hearts (Triangular Trade Trilogy, #1) http://books.toscrape.com/catalogue/starving-hearts-triangular-trade-trilogy-1_990/index.html 13.99 19\n",
            "Shakespeare's Sonnets http://books.toscrape.com/catalogue/shakespeares-sonnets_989/index.html 20.66 19\n",
            "Set Me Free http://books.toscrape.com/catalogue/set-me-free_988/index.html 17.46 19\n",
            "Scott Pilgrim's Precious Little Life (Scott Pilgrim #1) http://books.toscrape.com/catalogue/scott-pilgrims-precious-little-life-scott-pilgrim-1_987/index.html 52.29 19\n",
            "Rip it Up and Start Again http://books.toscrape.com/catalogue/rip-it-up-and-start-again_986/index.html 35.02 19\n",
            "Our Band Could Be Your Life: Scenes from the American Indie Underground, 1981-1991 http://books.toscrape.com/catalogue/our-band-could-be-your-life-scenes-from-the-american-indie-underground-1981-1991_985/index.html 57.25 19\n",
            "Olio http://books.toscrape.com/catalogue/olio_984/index.html 23.88 19\n",
            "Mesaerion: The Best Science Fiction Stories 1800-1849 http://books.toscrape.com/catalogue/mesaerion-the-best-science-fiction-stories-1800-1849_983/index.html 37.59 19\n",
            "Libertarianism for Beginners http://books.toscrape.com/catalogue/libertarianism-for-beginners_982/index.html 51.33 19\n",
            "It's Only the Himalayas http://books.toscrape.com/catalogue/its-only-the-himalayas_981/index.html 45.17 19\n",
            "In Her Wake http://books.toscrape.com/catalogue/in-her-wake_980/index.html 12.84 19\n",
            "How Music Works http://books.toscrape.com/catalogue/how-music-works_979/index.html 37.32 19\n",
            "Foolproof Preserving: A Guide to Small Batch Jams, Jellies, Pickles, Condiments, and More: A Foolproof Guide to Making Small Batch Jams, Jellies, Pickles, Condiments, and More http://books.toscrape.com/catalogue/foolproof-preserving-a-guide-to-small-batch-jams-jellies-pickles-condiments-and-more-a-foolproof-guide-to-making-small-batch-jams-jellies-pickles-condiments-and-more_978/index.html 30.52 19\n",
            "Chase Me (Paris Nights #2) http://books.toscrape.com/catalogue/chase-me-paris-nights-2_977/index.html 25.27 19\n",
            "Black Dust http://books.toscrape.com/catalogue/black-dust_976/index.html 34.53 19\n",
            "Birdsong: A Story in Pictures http://books.toscrape.com/catalogue/birdsong-a-story-in-pictures_975/index.html 54.64 19\n",
            "America's Cradle of Quarterbacks: Western Pennsylvania's Football Factory from Johnny Unitas to Joe Montana http://books.toscrape.com/catalogue/americas-cradle-of-quarterbacks-western-pennsylvanias-football-factory-from-johnny-unitas-to-joe-montana_974/index.html 22.5 19\n",
            "Aladdin and His Wonderful Lamp http://books.toscrape.com/catalogue/aladdin-and-his-wonderful-lamp_973/index.html 53.13 19\n",
            "Worlds Elsewhere: Journeys Around Shakespeareâs Globe http://books.toscrape.com/catalogue/worlds-elsewhere-journeys-around-shakespeares-globe_972/index.html 40.3 18\n",
            "Wall and Piece http://books.toscrape.com/catalogue/wall-and-piece_971/index.html 44.18 18\n",
            "The Four Agreements: A Practical Guide to Personal Freedom http://books.toscrape.com/catalogue/the-four-agreements-a-practical-guide-to-personal-freedom_970/index.html 17.66 18\n",
            "The Five Love Languages: How to Express Heartfelt Commitment to Your Mate http://books.toscrape.com/catalogue/the-five-love-languages-how-to-express-heartfelt-commitment-to-your-mate_969/index.html 31.05 18\n",
            "The Elephant Tree http://books.toscrape.com/catalogue/the-elephant-tree_968/index.html 23.82 18\n",
            "The Bear and the Piano http://books.toscrape.com/catalogue/the-bear-and-the-piano_967/index.html 36.89 18\n",
            "Sophie's World http://books.toscrape.com/catalogue/sophies-world_966/index.html 15.94 18\n",
            "Penny Maybe http://books.toscrape.com/catalogue/penny-maybe_965/index.html 33.29 18\n",
            "Maude (1883-1993):She Grew Up with the country http://books.toscrape.com/catalogue/maude-1883-1993she-grew-up-with-the-country_964/index.html 18.02 18\n",
            "In a Dark, Dark Wood http://books.toscrape.com/catalogue/in-a-dark-dark-wood_963/index.html 19.63 18\n",
            "Behind Closed Doors http://books.toscrape.com/catalogue/behind-closed-doors_962/index.html 52.22 18\n",
            "You can't bury them all: Poems http://books.toscrape.com/catalogue/you-cant-bury-them-all-poems_961/index.html 33.63 17\n"
          ]
        }
      ],
      "source": [
        "for i in range(len(AllBookDetails_df)):\n",
        "    print(AllBookDetails_df['Title'][i],AllBookDetails_df['Link'][i],AllBookDetails_df['Price'][i],AllBookDetails_df['Quantity in Stock'][i])\n",
        "# to check what is printed in the csv file"
      ]
    }
  ],
  "metadata": {
    "kernelspec": {
      "display_name": "Python 3",
      "language": "python",
      "name": "python3"
    },
    "language_info": {
      "codemirror_mode": {
        "name": "ipython",
        "version": 3
      },
      "file_extension": ".py",
      "mimetype": "text/x-python",
      "name": "python",
      "nbconvert_exporter": "python",
      "pygments_lexer": "ipython3",
      "version": "3.6.5"
    },
    "colab": {
      "provenance": []
    }
  },
  "nbformat": 4,
  "nbformat_minor": 0
}