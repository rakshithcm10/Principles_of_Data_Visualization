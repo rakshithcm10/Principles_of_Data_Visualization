{
  "nbformat": 4,
  "nbformat_minor": 0,
  "metadata": {
    "kernelspec": {
      "display_name": "pdv",
      "language": "python",
      "name": "pdv"
    },
    "language_info": {
      "codemirror_mode": {
        "name": "ipython",
        "version": 3
      },
      "file_extension": ".py",
      "mimetype": "text/x-python",
      "name": "python",
      "nbconvert_exporter": "python",
      "pygments_lexer": "ipython3",
      "version": "3.8.3"
    },
    "colab": {
      "name": "Beautiful_soup_times_job.ipynb",
      "provenance": [],
      "collapsed_sections": []
    }
  },
  "cells": [
    {
      "cell_type": "markdown",
      "metadata": {
        "id": "19LzmNMR9L_s"
      },
      "source": [
        "# **Web scraping for job listings from timesjobs.com using BeautifulSoup**\n",
        "\n",
        "### Project aim:\n",
        "*        To get first few pages of job listings at the timesjob.com\n",
        "*        Provide basic info of the job like:\n",
        "            a. Job Title\n",
        "            b. Company\n",
        "            c. Experience required\n",
        "            d. Job description\n",
        "            e. Keyskills\n",
        "            f. Time when the listing was posted etc...\n"
      ]
    },
    {
      "cell_type": "markdown",
      "metadata": {
        "id": "2xahXarp9L_2"
      },
      "source": [
        "#### Import necessary libraries\n",
        "*  bs4 from beautifulSoup\n",
        "*  requests for request handling\n",
        "*  regex to clean the text\n",
        "*  pandas to store data in xlsx format"
      ]
    },
    {
      "cell_type": "code",
      "metadata": {
        "id": "twDUg4Up9L_6"
      },
      "source": [
        "import requests\n",
        "from bs4 import BeautifulSoup\n",
        "import re\n",
        "import pandas as pd"
      ],
      "execution_count": 1,
      "outputs": []
    },
    {
      "cell_type": "code",
      "metadata": {
        "id": "V2UG1pHl94Ax",
        "outputId": "6eecb848-96ce-4cae-cdf4-2585d4cc3596",
        "colab": {
          "base_uri": "https://localhost:8080/",
          "height": 35
        }
      },
      "source": [
        "import bs4\n",
        "bs4.__version__"
      ],
      "execution_count": 2,
      "outputs": [
        {
          "output_type": "execute_result",
          "data": {
            "application/vnd.google.colaboratory.intrinsic+json": {
              "type": "string"
            },
            "text/plain": [
              "'4.6.3'"
            ]
          },
          "metadata": {
            "tags": []
          },
          "execution_count": 2
        }
      ]
    },
    {
      "cell_type": "markdown",
      "metadata": {
        "id": "gJWbGBSI9MAH"
      },
      "source": [
        "#### Get Inputs:\n",
        "*        Job Title\n",
        "*        Location\n",
        "*        Experience\n",
        "*        max pages to parse data from\n",
        "*        file name where the results have to be stored"
      ]
    },
    {
      "cell_type": "code",
      "metadata": {
        "id": "CjlgLYtt9MAK",
        "outputId": "042186e1-c000-406f-d020-9e521caa464c",
        "colab": {
          "base_uri": "https://localhost:8080/"
        }
      },
      "source": [
        "jobTitle   = input('Enter a job title to search: ')\n",
        "location   = input('Enter a location: ')\n",
        "experience = input('Enter years of experience: ')\n",
        "maxPages   = int(input('Enter max number of pages to be parsed: '))\n",
        "fileName   = input('Enter the file name where results to be stored: ') + '.xlsx'\n",
        "\n",
        "url = 'https://www.timesjobs.com/candidate/job-search.html?\\\n",
        "searchType=personalizedSearch&from=submit&txtKeywords={}&txt\\\n",
        "Location={}&cboWorkExp1={}&sequence='.format(jobTitle, location, experience)"
      ],
      "execution_count": 3,
      "outputs": [
        {
          "output_type": "stream",
          "text": [
            "Enter a job title to search: data science\n",
            "Enter a location: bangalore\n",
            "Enter years of experience: 1\n",
            "Enter max number of pages to be parsed: 50\n",
            "Enter the file name where results to be stored: sample_output\n"
          ],
          "name": "stdout"
        }
      ]
    },
    {
      "cell_type": "markdown",
      "metadata": {
        "id": "GMNRt4v69MAV"
      },
      "source": [
        "### Define the data to fetch"
      ]
    },
    {
      "cell_type": "code",
      "metadata": {
        "id": "t5t3CeDc9MAX"
      },
      "source": [
        "columns = ['Job type', 'Company Name', 'Experience required',\n",
        "           'Work Location', 'Compensation', 'Job description',\n",
        "           'Skill set', 'Posted Time', 'WFH Available', 'More details']"
      ],
      "execution_count": 4,
      "outputs": []
    },
    {
      "cell_type": "markdown",
      "metadata": {
        "id": "c4O8l8s19MAi"
      },
      "source": [
        "### Helper functions"
      ]
    },
    {
      "cell_type": "markdown",
      "metadata": {
        "id": "__QbW-5Q9MAk"
      },
      "source": [
        "#### Function to get the job cards from the times job website"
      ]
    },
    {
      "cell_type": "code",
      "metadata": {
        "id": "qrvDvbhx9MAm"
      },
      "source": [
        "def getJobCards(pageNumber):\n",
        "    times_job_page = requests.get(url + str(pageNumber))\n",
        "    return BeautifulSoup(times_job_page.content, 'lxml').find_all('li', class_='wht-shd-bx')"
      ],
      "execution_count": 5,
      "outputs": []
    },
    {
      "cell_type": "markdown",
      "metadata": {
        "id": "gJCfhM1k9MAw"
      },
      "source": [
        "#### lambda function to remove \\n\\r\\t from the text"
      ]
    },
    {
      "cell_type": "code",
      "metadata": {
        "id": "LmF3NwEL9MAy"
      },
      "source": [
        "cleanText = lambda x: re.sub(r'\\s+', ' ', x)"
      ],
      "execution_count": 6,
      "outputs": []
    },
    {
      "cell_type": "markdown",
      "metadata": {
        "id": "DwfBs9p09MA7"
      },
      "source": [
        "#### Get the tags where the job listing are present\n",
        "Function to get the following data\n",
        "* Job type\n",
        "* Company name\n",
        "* Experience required\n",
        "* Work location\n",
        "* Compensation\n",
        "* Job description\n",
        "* Skill set\n",
        "* Posted time\n",
        "* WFH available\n",
        "* url for more details"
      ]
    },
    {
      "cell_type": "code",
      "metadata": {
        "id": "UGWahJmD9MA9"
      },
      "source": [
        "def parseJobCard(jobCard):\n",
        "    jobType         = jobCard.find('a').text\n",
        "    moreDetails     = jobCard.find('a').get('href')\n",
        "    companyName     = jobCard.find('h3', class_='joblist-comp-name').contents[0]\n",
        "    jobDetails      = jobCard.find('ul', class_=\"top-jd-dtl\")\n",
        "    reqExp          = jobDetails.select_one('li').text[11:]\n",
        "    location        = jobDetails.select_one('li > span').text\n",
        "    secondListChild = jobDetails.select_one('li + li').text\n",
        "    compensation    = secondListChild if 'p.a' in secondListChild else 'NA'\n",
        "    jobDescription  = jobCard.find(class_='list-job-dtl').select_one('li:nth-of-type(1)').contents[2]\n",
        "    skillSet        = jobCard.find(class_='srp-skills').text\n",
        "    tags            = jobCard.find(class_='sim-posted')\n",
        "    postedTime      = tags.select('span')[-1].text\n",
        "    isWFHAvailable  = 'Available' if 'Work from Home' in tags.select_one('span').text else 'NA'\n",
        "    \n",
        "    return {\n",
        "        'Job type'           : cleanText(jobType),\n",
        "        'Company Name'       : cleanText(companyName),\n",
        "        'Experience required': cleanText(reqExp),\n",
        "        'Work Location'      : cleanText(location), \n",
        "        'Compensation'       : cleanText(compensation),\n",
        "        'Job description'    : cleanText(jobDescription),\n",
        "        'Skill set'          : cleanText(skillSet),\n",
        "        'Posted Time'        : cleanText(postedTime),\n",
        "        'WFH Available'      : cleanText(isWFHAvailable),\n",
        "        'More details'       : moreDetails\n",
        "    }"
      ],
      "execution_count": 7,
      "outputs": []
    },
    {
      "cell_type": "markdown",
      "metadata": {
        "id": "rXW-aCBJ9MBI"
      },
      "source": [
        "### Main logic"
      ]
    },
    {
      "cell_type": "markdown",
      "metadata": {
        "id": "VPtkR56A9MBJ"
      },
      "source": [
        "#### Create empty dataframe to hold the result"
      ]
    },
    {
      "cell_type": "code",
      "metadata": {
        "id": "issicoDT9MBK"
      },
      "source": [
        "parsedResultData = pd.DataFrame([], columns = columns)"
      ],
      "execution_count": 10,
      "outputs": []
    },
    {
      "cell_type": "markdown",
      "metadata": {
        "id": "-EV6QONk9MBR"
      },
      "source": [
        "#### Get job listing for maxPages number of pages"
      ]
    },
    {
      "cell_type": "code",
      "metadata": {
        "id": "D0VmFoWe9MBS"
      },
      "source": [
        "for page in range(1, maxPages + 1):\n",
        "    # fetch the next page\n",
        "    jobCards = getJobCards(page)\n",
        "    if (len(jobCards) == 0):\n",
        "        break\n",
        "    parsedJobdf = pd.DataFrame([parseJobCard(jobCard) for jobCard in jobCards],\n",
        "                               columns = columns)\n",
        "    parsedResultData = parsedResultData.append(parsedJobdf)"
      ],
      "execution_count": 11,
      "outputs": []
    },
    {
      "cell_type": "markdown",
      "metadata": {
        "id": "yDE1DzLv9MBX"
      },
      "source": [
        "#### Print the number of listing parsed"
      ]
    },
    {
      "cell_type": "code",
      "metadata": {
        "id": "P_tglBZg9MBY",
        "outputId": "f9972e7a-6185-4cac-b271-1bf5d4acba20",
        "colab": {
          "base_uri": "https://localhost:8080/"
        }
      },
      "source": [
        "print(f'Number of job listing parsed are {parsedResultData.size}')"
      ],
      "execution_count": 12,
      "outputs": [
        {
          "output_type": "stream",
          "text": [
            "Number of job listing parsed are 12500\n"
          ],
          "name": "stdout"
        }
      ]
    },
    {
      "cell_type": "markdown",
      "metadata": {
        "id": "2g6ddVfs9MBc"
      },
      "source": [
        "#### Print the first 5 rows"
      ]
    },
    {
      "cell_type": "code",
      "metadata": {
        "id": "OTTT-ucD9MBd",
        "outputId": "118d5573-f436-4fff-8976-725e60f19bf6",
        "colab": {
          "base_uri": "https://localhost:8080/",
          "height": 380
        }
      },
      "source": [
        "parsedResultData.head()"
      ],
      "execution_count": 13,
      "outputs": [
        {
          "output_type": "execute_result",
          "data": {
            "text/html": [
              "<div>\n",
              "<style scoped>\n",
              "    .dataframe tbody tr th:only-of-type {\n",
              "        vertical-align: middle;\n",
              "    }\n",
              "\n",
              "    .dataframe tbody tr th {\n",
              "        vertical-align: top;\n",
              "    }\n",
              "\n",
              "    .dataframe thead th {\n",
              "        text-align: right;\n",
              "    }\n",
              "</style>\n",
              "<table border=\"1\" class=\"dataframe\">\n",
              "  <thead>\n",
              "    <tr style=\"text-align: right;\">\n",
              "      <th></th>\n",
              "      <th>Job type</th>\n",
              "      <th>Company Name</th>\n",
              "      <th>Experience required</th>\n",
              "      <th>Work Location</th>\n",
              "      <th>Compensation</th>\n",
              "      <th>Job description</th>\n",
              "      <th>Skill set</th>\n",
              "      <th>Posted Time</th>\n",
              "      <th>WFH Available</th>\n",
              "      <th>More details</th>\n",
              "    </tr>\n",
              "  </thead>\n",
              "  <tbody>\n",
              "    <tr>\n",
              "      <th>0</th>\n",
              "      <td>Data Science</td>\n",
              "      <td>ADmyBRAND</td>\n",
              "      <td>0 - 3 yrs</td>\n",
              "      <td>Bengaluru / Bangalore</td>\n",
              "      <td>NA</td>\n",
              "      <td>Data ScienceSelecting features , building and...</td>\n",
              "      <td>data mining , api , machine learning</td>\n",
              "      <td>Posted few days ago</td>\n",
              "      <td>NA</td>\n",
              "      <td>https://www.timesjobs.com/job-detail/data-scie...</td>\n",
              "    </tr>\n",
              "    <tr>\n",
              "      <th>1</th>\n",
              "      <td>Data Science</td>\n",
              "      <td>DataWeave Software Pvt. Ltd.</td>\n",
              "      <td>0 - 3 yrs</td>\n",
              "      <td>Bengaluru / Bangalore</td>\n",
              "      <td>NA</td>\n",
              "      <td>Data ScienceWe the Data Science team at DataW...</td>\n",
              "      <td>natural language processing , machine learnin...</td>\n",
              "      <td>Posted few days ago</td>\n",
              "      <td>NA</td>\n",
              "      <td>https://www.timesjobs.com/job-detail/data-scie...</td>\n",
              "    </tr>\n",
              "    <tr>\n",
              "      <th>2</th>\n",
              "      <td>Data Science</td>\n",
              "      <td>capgemini</td>\n",
              "      <td>0 - 3 yrs</td>\n",
              "      <td>Hyderabad/Secunderabad, Mumbai, Pune, Bengalur...</td>\n",
              "      <td>NA</td>\n",
              "      <td>Job DescriptionHands on experience in Python ...</td>\n",
              "      <td>hive , cloudera , python , sas , scala , impa...</td>\n",
              "      <td>Posted few days ago</td>\n",
              "      <td>NA</td>\n",
              "      <td>https://www.timesjobs.com/job-detail/data-scie...</td>\n",
              "    </tr>\n",
              "    <tr>\n",
              "      <th>3</th>\n",
              "      <td>Data Analyst / Data Science</td>\n",
              "      <td>CANVAS27.com</td>\n",
              "      <td>1 - 6 yrs</td>\n",
              "      <td>Ahmedabad, Bengaluru / Bangalore, Chennai, Del...</td>\n",
              "      <td>₹Rs 4.00 - 9.00 Lacs p.a.</td>\n",
              "      <td>Common data science toolkits , such as Python...</td>\n",
              "      <td>r , data analysis , logistic regression , sql...</td>\n",
              "      <td>Posted a month ago</td>\n",
              "      <td>NA</td>\n",
              "      <td>https://www.timesjobs.com/job-detail/data-anal...</td>\n",
              "    </tr>\n",
              "    <tr>\n",
              "      <th>4</th>\n",
              "      <td>Explore Job Opening on Data Science</td>\n",
              "      <td>IIBM Institute of Business Management</td>\n",
              "      <td>0 - 3 yrs</td>\n",
              "      <td>Bengaluru / Bangalore, Chennai, Delhi/NCR, Hyd...</td>\n",
              "      <td>NA</td>\n",
              "      <td>IIBM Institute offers job linked internship a...</td>\n",
              "      <td>IT Proffestionals , Python , Java</td>\n",
              "      <td>Posted few days ago</td>\n",
              "      <td>Available</td>\n",
              "      <td>https://www.timesjobs.com/job-detail/explore-j...</td>\n",
              "    </tr>\n",
              "  </tbody>\n",
              "</table>\n",
              "</div>"
            ],
            "text/plain": [
              "                               Job type  ...                                       More details\n",
              "0                          Data Science  ...  https://www.timesjobs.com/job-detail/data-scie...\n",
              "1                          Data Science  ...  https://www.timesjobs.com/job-detail/data-scie...\n",
              "2                          Data Science  ...  https://www.timesjobs.com/job-detail/data-scie...\n",
              "3           Data Analyst / Data Science  ...  https://www.timesjobs.com/job-detail/data-anal...\n",
              "4   Explore Job Opening on Data Science  ...  https://www.timesjobs.com/job-detail/explore-j...\n",
              "\n",
              "[5 rows x 10 columns]"
            ]
          },
          "metadata": {
            "tags": []
          },
          "execution_count": 13
        }
      ]
    },
    {
      "cell_type": "markdown",
      "metadata": {
        "id": "tA4OJ_T19MBh"
      },
      "source": [
        "#### Store the parsed data in .csv file"
      ]
    },
    {
      "cell_type": "code",
      "metadata": {
        "id": "XMbQ-BMk9MBi"
      },
      "source": [
        "parsedResultData.to_excel(fileName, index = False)"
      ],
      "execution_count": 14,
      "outputs": []
    }
  ]
}